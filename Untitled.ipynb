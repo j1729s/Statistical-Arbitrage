{
 "cells": [
  {
   "cell_type": "code",
   "execution_count": 1,
   "id": "94ce52cb-c026-4488-8b5e-76f635941b2f",
   "metadata": {},
   "outputs": [],
   "source": [
    "import pandas as pd\n",
    "import numpy as np\n",
    "import yfinance as yf\n",
    "import statsmodels.api as sm"
   ]
  },
  {
   "cell_type": "code",
   "execution_count": 2,
   "id": "976655f0-ab76-4400-996d-a4d48f51f3fa",
   "metadata": {},
   "outputs": [],
   "source": [
    "ticker_list = [\"AAL\", \"AAP\", \"AAPL\", \"GLD\"]"
   ]
  },
  {
   "cell_type": "code",
   "execution_count": 3,
   "id": "4c696278-8e9b-4b6c-8412-e298b2127fb9",
   "metadata": {},
   "outputs": [
    {
     "name": "stdout",
     "output_type": "stream",
     "text": [
      "[*********************100%***********************]  4 of 4 completed\n"
     ]
    },
    {
     "data": {
      "text/html": [
       "<div>\n",
       "<style scoped>\n",
       "    .dataframe tbody tr th:only-of-type {\n",
       "        vertical-align: middle;\n",
       "    }\n",
       "\n",
       "    .dataframe tbody tr th {\n",
       "        vertical-align: top;\n",
       "    }\n",
       "\n",
       "    .dataframe thead th {\n",
       "        text-align: right;\n",
       "    }\n",
       "</style>\n",
       "<table border=\"1\" class=\"dataframe\">\n",
       "  <thead>\n",
       "    <tr style=\"text-align: right;\">\n",
       "      <th></th>\n",
       "      <th>AAL</th>\n",
       "      <th>AAP</th>\n",
       "      <th>AAPL</th>\n",
       "      <th>GLD</th>\n",
       "    </tr>\n",
       "    <tr>\n",
       "      <th>Date</th>\n",
       "      <th></th>\n",
       "      <th></th>\n",
       "      <th></th>\n",
       "      <th></th>\n",
       "    </tr>\n",
       "  </thead>\n",
       "  <tbody>\n",
       "    <tr>\n",
       "      <th>2018-02-26</th>\n",
       "      <td>3.983594</td>\n",
       "      <td>4.681849</td>\n",
       "      <td>3.753120</td>\n",
       "      <td>4.839847</td>\n",
       "    </tr>\n",
       "    <tr>\n",
       "      <th>2018-02-27</th>\n",
       "      <td>3.970048</td>\n",
       "      <td>4.636883</td>\n",
       "      <td>3.749874</td>\n",
       "      <td>4.829353</td>\n",
       "    </tr>\n",
       "    <tr>\n",
       "      <th>2018-02-28</th>\n",
       "      <td>3.969864</td>\n",
       "      <td>4.676612</td>\n",
       "      <td>3.748360</td>\n",
       "      <td>4.828314</td>\n",
       "    </tr>\n",
       "    <tr>\n",
       "      <th>2018-03-01</th>\n",
       "      <td>3.955569</td>\n",
       "      <td>4.704746</td>\n",
       "      <td>3.730688</td>\n",
       "      <td>4.826071</td>\n",
       "    </tr>\n",
       "    <tr>\n",
       "      <th>2018-03-02</th>\n",
       "      <td>3.949943</td>\n",
       "      <td>4.692416</td>\n",
       "      <td>3.737579</td>\n",
       "      <td>4.831429</td>\n",
       "    </tr>\n",
       "    <tr>\n",
       "      <th>...</th>\n",
       "      <td>...</td>\n",
       "      <td>...</td>\n",
       "      <td>...</td>\n",
       "      <td>...</td>\n",
       "    </tr>\n",
       "    <tr>\n",
       "      <th>2023-02-16</th>\n",
       "      <td>2.796671</td>\n",
       "      <td>5.011901</td>\n",
       "      <td>5.035068</td>\n",
       "      <td>5.140200</td>\n",
       "    </tr>\n",
       "    <tr>\n",
       "      <th>2023-02-17</th>\n",
       "      <td>2.794839</td>\n",
       "      <td>5.010569</td>\n",
       "      <td>5.027492</td>\n",
       "      <td>5.143183</td>\n",
       "    </tr>\n",
       "    <tr>\n",
       "      <th>2023-02-21</th>\n",
       "      <td>2.753024</td>\n",
       "      <td>4.971132</td>\n",
       "      <td>5.000450</td>\n",
       "      <td>5.139439</td>\n",
       "    </tr>\n",
       "    <tr>\n",
       "      <th>2023-02-22</th>\n",
       "      <td>2.744704</td>\n",
       "      <td>4.967171</td>\n",
       "      <td>5.003342</td>\n",
       "      <td>5.133796</td>\n",
       "    </tr>\n",
       "    <tr>\n",
       "      <th>2023-02-23</th>\n",
       "      <td>2.764431</td>\n",
       "      <td>4.955897</td>\n",
       "      <td>5.006627</td>\n",
       "      <td>5.133266</td>\n",
       "    </tr>\n",
       "  </tbody>\n",
       "</table>\n",
       "<p>1258 rows × 4 columns</p>\n",
       "</div>"
      ],
      "text/plain": [
       "                 AAL       AAP      AAPL       GLD\n",
       "Date                                              \n",
       "2018-02-26  3.983594  4.681849  3.753120  4.839847\n",
       "2018-02-27  3.970048  4.636883  3.749874  4.829353\n",
       "2018-02-28  3.969864  4.676612  3.748360  4.828314\n",
       "2018-03-01  3.955569  4.704746  3.730688  4.826071\n",
       "2018-03-02  3.949943  4.692416  3.737579  4.831429\n",
       "...              ...       ...       ...       ...\n",
       "2023-02-16  2.796671  5.011901  5.035068  5.140200\n",
       "2023-02-17  2.794839  5.010569  5.027492  5.143183\n",
       "2023-02-21  2.753024  4.971132  5.000450  5.139439\n",
       "2023-02-22  2.744704  4.967171  5.003342  5.133796\n",
       "2023-02-23  2.764431  4.955897  5.006627  5.133266\n",
       "\n",
       "[1258 rows x 4 columns]"
      ]
     },
     "execution_count": 3,
     "metadata": {},
     "output_type": "execute_result"
    }
   ],
   "source": [
    "data = np.log(yf.download(ticker_list, period=\"5y\", interval=\"1d\")[\"Adj Close\"])\n",
    "data"
   ]
  },
  {
   "cell_type": "code",
   "execution_count": 5,
   "id": "903c2d01-d67b-4463-b53d-a8b7e74e8ac4",
   "metadata": {},
   "outputs": [],
   "source": [
    "from Cointegration_coeeficient_tests import johansen_test"
   ]
  },
  {
   "cell_type": "code",
   "execution_count": 7,
   "id": "df6e175e-1b59-4e3d-941c-dddf6676547c",
   "metadata": {},
   "outputs": [
    {
     "data": {
      "text/plain": [
       "{'AAL': 4.439908854469116,\n",
       " 'AAP': 1.1320375387554453,\n",
       " 'AAPL': 0.6485894285490077,\n",
       " 'GLD': -0.15064681347844378}"
      ]
     },
     "execution_count": 7,
     "metadata": {},
     "output_type": "execute_result"
    }
   ],
   "source": [
    "johansen_test(data, alpha=0.01)"
   ]
  },
  {
   "cell_type": "code",
   "execution_count": null,
   "id": "955d4c52-8d42-4ccf-a324-6898e07606fd",
   "metadata": {},
   "outputs": [],
   "source": []
  }
 ],
 "metadata": {
  "kernelspec": {
   "display_name": "Python 3 (ipykernel)",
   "language": "python",
   "name": "python3"
  },
  "language_info": {
   "codemirror_mode": {
    "name": "ipython",
    "version": 3
   },
   "file_extension": ".py",
   "mimetype": "text/x-python",
   "name": "python",
   "nbconvert_exporter": "python",
   "pygments_lexer": "ipython3",
   "version": "3.9.13"
  }
 },
 "nbformat": 4,
 "nbformat_minor": 5
}
