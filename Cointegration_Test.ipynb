{
 "cells": [
  {
   "cell_type": "markdown",
   "id": "afb41abb-2a7a-4f96-86a9-7450d313143f",
   "metadata": {},
   "source": [
    "# Cointegration Tests"
   ]
  },
  {
   "cell_type": "code",
   "execution_count": 1,
   "id": "4a9690df-8dbd-49a0-8189-ebfb0eca4d29",
   "metadata": {},
   "outputs": [],
   "source": [
    "import warnings\n",
    "import pandas as pd\n",
    "import numpy as np\n",
    "import yfinance as yf\n",
    "import statsmodels.api as sm\n",
    "warnings.filterwarnings(\"ignore\")"
   ]
  },
  {
   "cell_type": "code",
   "execution_count": 2,
   "id": "70252bd6-163b-4e4a-b150-7021055782d9",
   "metadata": {},
   "outputs": [],
   "source": [
    "import jtest as jt\n",
    "import Traditional_Partner_Selection as tps\n",
    "import Cointegration_coeeficient_tests as cct"
   ]
  },
  {
   "cell_type": "code",
   "execution_count": 3,
   "id": "976655f0-ab76-4400-996d-a4d48f51f3fa",
   "metadata": {},
   "outputs": [],
   "source": [
    "ticker_list = [\"AAL\", \"AAP\", \"AAPL\", \"GLD\", \"GOOG\", \"TSLA\", \"GDX\", \"GOOGL\"]"
   ]
  },
  {
   "cell_type": "code",
   "execution_count": 4,
   "id": "4c696278-8e9b-4b6c-8412-e298b2127fb9",
   "metadata": {},
   "outputs": [
    {
     "name": "stdout",
     "output_type": "stream",
     "text": [
      "[*********************100%***********************]  8 of 8 completed\n"
     ]
    },
    {
     "data": {
      "text/html": [
       "<div>\n",
       "<style scoped>\n",
       "    .dataframe tbody tr th:only-of-type {\n",
       "        vertical-align: middle;\n",
       "    }\n",
       "\n",
       "    .dataframe tbody tr th {\n",
       "        vertical-align: top;\n",
       "    }\n",
       "\n",
       "    .dataframe thead th {\n",
       "        text-align: right;\n",
       "    }\n",
       "</style>\n",
       "<table border=\"1\" class=\"dataframe\">\n",
       "  <thead>\n",
       "    <tr style=\"text-align: right;\">\n",
       "      <th></th>\n",
       "      <th>AAL</th>\n",
       "      <th>AAP</th>\n",
       "      <th>AAPL</th>\n",
       "      <th>GDX</th>\n",
       "      <th>GLD</th>\n",
       "      <th>GOOG</th>\n",
       "      <th>GOOGL</th>\n",
       "      <th>TSLA</th>\n",
       "    </tr>\n",
       "    <tr>\n",
       "      <th>Date</th>\n",
       "      <th></th>\n",
       "      <th></th>\n",
       "      <th></th>\n",
       "      <th></th>\n",
       "      <th></th>\n",
       "      <th></th>\n",
       "      <th></th>\n",
       "      <th></th>\n",
       "    </tr>\n",
       "  </thead>\n",
       "  <tbody>\n",
       "    <tr>\n",
       "      <th>2013-04-01</th>\n",
       "      <td>2.754647</td>\n",
       "      <td>4.340114</td>\n",
       "      <td>2.582491</td>\n",
       "      <td>3.535976</td>\n",
       "      <td>5.041294</td>\n",
       "      <td>2.993477</td>\n",
       "      <td>2.998219</td>\n",
       "      <td>1.074547</td>\n",
       "    </tr>\n",
       "    <tr>\n",
       "      <th>2013-04-02</th>\n",
       "      <td>2.697242</td>\n",
       "      <td>4.346047</td>\n",
       "      <td>2.584541</td>\n",
       "      <td>3.493150</td>\n",
       "      <td>5.026705</td>\n",
       "      <td>3.008160</td>\n",
       "      <td>3.012901</td>\n",
       "      <td>1.083837</td>\n",
       "    </tr>\n",
       "    <tr>\n",
       "      <th>2013-04-03</th>\n",
       "      <td>2.683810</td>\n",
       "      <td>4.337439</td>\n",
       "      <td>2.589646</td>\n",
       "      <td>3.446656</td>\n",
       "      <td>5.015490</td>\n",
       "      <td>2.999711</td>\n",
       "      <td>3.004453</td>\n",
       "      <td>1.007958</td>\n",
       "    </tr>\n",
       "    <tr>\n",
       "      <th>2013-04-04</th>\n",
       "      <td>2.694060</td>\n",
       "      <td>4.338412</td>\n",
       "      <td>2.579713</td>\n",
       "      <td>3.474584</td>\n",
       "      <td>5.012567</td>\n",
       "      <td>2.985809</td>\n",
       "      <td>2.990551</td>\n",
       "      <td>1.029858</td>\n",
       "    </tr>\n",
       "    <tr>\n",
       "      <th>2013-04-05</th>\n",
       "      <td>2.695971</td>\n",
       "      <td>4.323088</td>\n",
       "      <td>2.569089</td>\n",
       "      <td>3.470031</td>\n",
       "      <td>5.029195</td>\n",
       "      <td>2.970576</td>\n",
       "      <td>2.975318</td>\n",
       "      <td>1.014506</td>\n",
       "    </tr>\n",
       "    <tr>\n",
       "      <th>...</th>\n",
       "      <td>...</td>\n",
       "      <td>...</td>\n",
       "      <td>...</td>\n",
       "      <td>...</td>\n",
       "      <td>...</td>\n",
       "      <td>...</td>\n",
       "      <td>...</td>\n",
       "      <td>...</td>\n",
       "    </tr>\n",
       "    <tr>\n",
       "      <th>2023-03-22</th>\n",
       "      <td>2.626117</td>\n",
       "      <td>4.732683</td>\n",
       "      <td>5.061519</td>\n",
       "      <td>3.419692</td>\n",
       "      <td>5.211888</td>\n",
       "      <td>4.646504</td>\n",
       "      <td>4.638315</td>\n",
       "      <td>5.253058</td>\n",
       "    </tr>\n",
       "    <tr>\n",
       "      <th>2023-03-23</th>\n",
       "      <td>2.612273</td>\n",
       "      <td>4.710791</td>\n",
       "      <td>5.068464</td>\n",
       "      <td>3.443938</td>\n",
       "      <td>5.224348</td>\n",
       "      <td>4.665889</td>\n",
       "      <td>4.659658</td>\n",
       "      <td>5.258641</td>\n",
       "    </tr>\n",
       "    <tr>\n",
       "      <th>2023-03-24</th>\n",
       "      <td>2.618855</td>\n",
       "      <td>4.707998</td>\n",
       "      <td>5.076735</td>\n",
       "      <td>3.451574</td>\n",
       "      <td>5.213032</td>\n",
       "      <td>4.664005</td>\n",
       "      <td>4.658142</td>\n",
       "      <td>5.249180</td>\n",
       "    </tr>\n",
       "    <tr>\n",
       "      <th>2023-03-27</th>\n",
       "      <td>2.634762</td>\n",
       "      <td>4.742669</td>\n",
       "      <td>5.064366</td>\n",
       "      <td>3.450622</td>\n",
       "      <td>5.203732</td>\n",
       "      <td>4.635311</td>\n",
       "      <td>4.629472</td>\n",
       "      <td>5.256505</td>\n",
       "    </tr>\n",
       "    <tr>\n",
       "      <th>2023-03-28</th>\n",
       "      <td>2.637628</td>\n",
       "      <td>4.751346</td>\n",
       "      <td>5.060377</td>\n",
       "      <td>3.475377</td>\n",
       "      <td>5.211888</td>\n",
       "      <td>4.618679</td>\n",
       "      <td>4.615417</td>\n",
       "      <td>5.242752</td>\n",
       "    </tr>\n",
       "  </tbody>\n",
       "</table>\n",
       "<p>2517 rows × 8 columns</p>\n",
       "</div>"
      ],
      "text/plain": [
       "                 AAL       AAP      AAPL       GDX       GLD      GOOG  \\\n",
       "Date                                                                     \n",
       "2013-04-01  2.754647  4.340114  2.582491  3.535976  5.041294  2.993477   \n",
       "2013-04-02  2.697242  4.346047  2.584541  3.493150  5.026705  3.008160   \n",
       "2013-04-03  2.683810  4.337439  2.589646  3.446656  5.015490  2.999711   \n",
       "2013-04-04  2.694060  4.338412  2.579713  3.474584  5.012567  2.985809   \n",
       "2013-04-05  2.695971  4.323088  2.569089  3.470031  5.029195  2.970576   \n",
       "...              ...       ...       ...       ...       ...       ...   \n",
       "2023-03-22  2.626117  4.732683  5.061519  3.419692  5.211888  4.646504   \n",
       "2023-03-23  2.612273  4.710791  5.068464  3.443938  5.224348  4.665889   \n",
       "2023-03-24  2.618855  4.707998  5.076735  3.451574  5.213032  4.664005   \n",
       "2023-03-27  2.634762  4.742669  5.064366  3.450622  5.203732  4.635311   \n",
       "2023-03-28  2.637628  4.751346  5.060377  3.475377  5.211888  4.618679   \n",
       "\n",
       "               GOOGL      TSLA  \n",
       "Date                            \n",
       "2013-04-01  2.998219  1.074547  \n",
       "2013-04-02  3.012901  1.083837  \n",
       "2013-04-03  3.004453  1.007958  \n",
       "2013-04-04  2.990551  1.029858  \n",
       "2013-04-05  2.975318  1.014506  \n",
       "...              ...       ...  \n",
       "2023-03-22  4.638315  5.253058  \n",
       "2023-03-23  4.659658  5.258641  \n",
       "2023-03-24  4.658142  5.249180  \n",
       "2023-03-27  4.629472  5.256505  \n",
       "2023-03-28  4.615417  5.242752  \n",
       "\n",
       "[2517 rows x 8 columns]"
      ]
     },
     "execution_count": 4,
     "metadata": {},
     "output_type": "execute_result"
    }
   ],
   "source": [
    "data = np.log(yf.download(ticker_list, period=\"10y\", interval=\"1d\")[\"Adj Close\"])\n",
    "data"
   ]
  },
  {
   "cell_type": "code",
   "execution_count": 5,
   "id": "856fe76a-7142-4027-8d9b-97494d8e05b3",
   "metadata": {},
   "outputs": [
    {
     "data": {
      "text/html": [
       "<div>\n",
       "<style scoped>\n",
       "    .dataframe tbody tr th:only-of-type {\n",
       "        vertical-align: middle;\n",
       "    }\n",
       "\n",
       "    .dataframe tbody tr th {\n",
       "        vertical-align: top;\n",
       "    }\n",
       "\n",
       "    .dataframe thead th {\n",
       "        text-align: right;\n",
       "    }\n",
       "</style>\n",
       "<table border=\"1\" class=\"dataframe\">\n",
       "  <thead>\n",
       "    <tr style=\"text-align: right;\">\n",
       "      <th></th>\n",
       "      <th>AAL</th>\n",
       "      <th>AAP</th>\n",
       "      <th>AAPL</th>\n",
       "      <th>GDX</th>\n",
       "      <th>GLD</th>\n",
       "      <th>GOOG</th>\n",
       "      <th>GOOGL</th>\n",
       "      <th>TSLA</th>\n",
       "    </tr>\n",
       "    <tr>\n",
       "      <th>Date</th>\n",
       "      <th></th>\n",
       "      <th></th>\n",
       "      <th></th>\n",
       "      <th></th>\n",
       "      <th></th>\n",
       "      <th></th>\n",
       "      <th></th>\n",
       "      <th></th>\n",
       "    </tr>\n",
       "  </thead>\n",
       "  <tbody>\n",
       "    <tr>\n",
       "      <th>2013-04-02</th>\n",
       "      <td>-0.057405</td>\n",
       "      <td>0.005933</td>\n",
       "      <td>0.002050</td>\n",
       "      <td>-0.042826</td>\n",
       "      <td>-0.014588</td>\n",
       "      <td>0.014682</td>\n",
       "      <td>0.014682</td>\n",
       "      <td>0.009290</td>\n",
       "    </tr>\n",
       "    <tr>\n",
       "      <th>2013-04-03</th>\n",
       "      <td>-0.013432</td>\n",
       "      <td>-0.008609</td>\n",
       "      <td>0.005106</td>\n",
       "      <td>-0.046493</td>\n",
       "      <td>-0.011215</td>\n",
       "      <td>-0.008448</td>\n",
       "      <td>-0.008448</td>\n",
       "      <td>-0.075879</td>\n",
       "    </tr>\n",
       "    <tr>\n",
       "      <th>2013-04-04</th>\n",
       "      <td>0.010250</td>\n",
       "      <td>0.000974</td>\n",
       "      <td>-0.009934</td>\n",
       "      <td>0.027927</td>\n",
       "      <td>-0.002923</td>\n",
       "      <td>-0.013902</td>\n",
       "      <td>-0.013902</td>\n",
       "      <td>0.021900</td>\n",
       "    </tr>\n",
       "    <tr>\n",
       "      <th>2013-04-05</th>\n",
       "      <td>0.001910</td>\n",
       "      <td>-0.015324</td>\n",
       "      <td>-0.010624</td>\n",
       "      <td>-0.004553</td>\n",
       "      <td>0.016629</td>\n",
       "      <td>-0.015234</td>\n",
       "      <td>-0.015234</td>\n",
       "      <td>-0.015352</td>\n",
       "    </tr>\n",
       "    <tr>\n",
       "      <th>2013-04-08</th>\n",
       "      <td>0.007605</td>\n",
       "      <td>-0.003961</td>\n",
       "      <td>0.007087</td>\n",
       "      <td>-0.011763</td>\n",
       "      <td>-0.004263</td>\n",
       "      <td>-0.010527</td>\n",
       "      <td>-0.010527</td>\n",
       "      <td>0.011058</td>\n",
       "    </tr>\n",
       "    <tr>\n",
       "      <th>...</th>\n",
       "      <td>...</td>\n",
       "      <td>...</td>\n",
       "      <td>...</td>\n",
       "      <td>...</td>\n",
       "      <td>...</td>\n",
       "      <td>...</td>\n",
       "      <td>...</td>\n",
       "      <td>...</td>\n",
       "    </tr>\n",
       "    <tr>\n",
       "      <th>2023-03-22</th>\n",
       "      <td>-0.039026</td>\n",
       "      <td>-0.053057</td>\n",
       "      <td>-0.009145</td>\n",
       "      <td>0.018495</td>\n",
       "      <td>0.016877</td>\n",
       "      <td>-0.015424</td>\n",
       "      <td>-0.014883</td>\n",
       "      <td>-0.033085</td>\n",
       "    </tr>\n",
       "    <tr>\n",
       "      <th>2023-03-23</th>\n",
       "      <td>-0.013844</td>\n",
       "      <td>-0.021893</td>\n",
       "      <td>0.006945</td>\n",
       "      <td>0.024246</td>\n",
       "      <td>0.012460</td>\n",
       "      <td>0.019385</td>\n",
       "      <td>0.021344</td>\n",
       "      <td>0.005582</td>\n",
       "    </tr>\n",
       "    <tr>\n",
       "      <th>2023-03-24</th>\n",
       "      <td>0.006581</td>\n",
       "      <td>-0.002793</td>\n",
       "      <td>0.008271</td>\n",
       "      <td>0.007636</td>\n",
       "      <td>-0.011316</td>\n",
       "      <td>-0.001884</td>\n",
       "      <td>-0.001516</td>\n",
       "      <td>-0.009461</td>\n",
       "    </tr>\n",
       "    <tr>\n",
       "      <th>2023-03-27</th>\n",
       "      <td>0.015908</td>\n",
       "      <td>0.034671</td>\n",
       "      <td>-0.012369</td>\n",
       "      <td>-0.000951</td>\n",
       "      <td>-0.009300</td>\n",
       "      <td>-0.028694</td>\n",
       "      <td>-0.028670</td>\n",
       "      <td>0.007326</td>\n",
       "    </tr>\n",
       "    <tr>\n",
       "      <th>2023-03-28</th>\n",
       "      <td>0.002865</td>\n",
       "      <td>0.008678</td>\n",
       "      <td>-0.003988</td>\n",
       "      <td>0.024755</td>\n",
       "      <td>0.008156</td>\n",
       "      <td>-0.016633</td>\n",
       "      <td>-0.014055</td>\n",
       "      <td>-0.013753</td>\n",
       "    </tr>\n",
       "  </tbody>\n",
       "</table>\n",
       "<p>2516 rows × 8 columns</p>\n",
       "</div>"
      ],
      "text/plain": [
       "                 AAL       AAP      AAPL       GDX       GLD      GOOG  \\\n",
       "Date                                                                     \n",
       "2013-04-02 -0.057405  0.005933  0.002050 -0.042826 -0.014588  0.014682   \n",
       "2013-04-03 -0.013432 -0.008609  0.005106 -0.046493 -0.011215 -0.008448   \n",
       "2013-04-04  0.010250  0.000974 -0.009934  0.027927 -0.002923 -0.013902   \n",
       "2013-04-05  0.001910 -0.015324 -0.010624 -0.004553  0.016629 -0.015234   \n",
       "2013-04-08  0.007605 -0.003961  0.007087 -0.011763 -0.004263 -0.010527   \n",
       "...              ...       ...       ...       ...       ...       ...   \n",
       "2023-03-22 -0.039026 -0.053057 -0.009145  0.018495  0.016877 -0.015424   \n",
       "2023-03-23 -0.013844 -0.021893  0.006945  0.024246  0.012460  0.019385   \n",
       "2023-03-24  0.006581 -0.002793  0.008271  0.007636 -0.011316 -0.001884   \n",
       "2023-03-27  0.015908  0.034671 -0.012369 -0.000951 -0.009300 -0.028694   \n",
       "2023-03-28  0.002865  0.008678 -0.003988  0.024755  0.008156 -0.016633   \n",
       "\n",
       "               GOOGL      TSLA  \n",
       "Date                            \n",
       "2013-04-02  0.014682  0.009290  \n",
       "2013-04-03 -0.008448 -0.075879  \n",
       "2013-04-04 -0.013902  0.021900  \n",
       "2013-04-05 -0.015234 -0.015352  \n",
       "2013-04-08 -0.010527  0.011058  \n",
       "...              ...       ...  \n",
       "2023-03-22 -0.014883 -0.033085  \n",
       "2023-03-23  0.021344  0.005582  \n",
       "2023-03-24 -0.001516 -0.009461  \n",
       "2023-03-27 -0.028670  0.007326  \n",
       "2023-03-28 -0.014055 -0.013753  \n",
       "\n",
       "[2516 rows x 8 columns]"
      ]
     },
     "execution_count": 5,
     "metadata": {},
     "output_type": "execute_result"
    }
   ],
   "source": [
    "returns_data = data.diff().dropna()\n",
    "returns_data"
   ]
  },
  {
   "cell_type": "markdown",
   "id": "44f35a80-1b6c-4089-adc4-93ddd9a64e31",
   "metadata": {},
   "source": [
    "### Ranking Quadruples based on Spearman and Kendall Correlation"
   ]
  },
  {
   "cell_type": "code",
   "execution_count": 6,
   "id": "9c748fe8-4c12-4b15-8338-65c528277fba",
   "metadata": {},
   "outputs": [
    {
     "data": {
      "text/html": [
       "<div>\n",
       "<style scoped>\n",
       "    .dataframe tbody tr th:only-of-type {\n",
       "        vertical-align: middle;\n",
       "    }\n",
       "\n",
       "    .dataframe tbody tr th {\n",
       "        vertical-align: top;\n",
       "    }\n",
       "\n",
       "    .dataframe thead th {\n",
       "        text-align: right;\n",
       "    }\n",
       "</style>\n",
       "<table border=\"1\" class=\"dataframe\">\n",
       "  <thead>\n",
       "    <tr style=\"text-align: right;\">\n",
       "      <th></th>\n",
       "      <th>Spearman Rank Sum</th>\n",
       "    </tr>\n",
       "  </thead>\n",
       "  <tbody>\n",
       "    <tr>\n",
       "      <th>GOOG with ('AAL', 'AAPL', 'GOOGL', 'TSLA')</th>\n",
       "      <td>2.250494</td>\n",
       "    </tr>\n",
       "    <tr>\n",
       "      <th>GOOGL with ('AAL', 'AAPL', 'GOOG', 'TSLA')</th>\n",
       "      <td>2.246310</td>\n",
       "    </tr>\n",
       "  </tbody>\n",
       "</table>\n",
       "</div>"
      ],
      "text/plain": [
       "                                            Spearman Rank Sum\n",
       "GOOG with ('AAL', 'AAPL', 'GOOGL', 'TSLA')           2.250494\n",
       "GOOGL with ('AAL', 'AAPL', 'GOOG', 'TSLA')           2.246310"
      ]
     },
     "execution_count": 6,
     "metadata": {},
     "output_type": "execute_result"
    }
   ],
   "source": [
    "tps.spearman_rank_correlation(returns_data, n=2)"
   ]
  },
  {
   "cell_type": "code",
   "execution_count": 7,
   "id": "6fb3ef23-964a-4bdd-9a7a-41a33545bdc4",
   "metadata": {},
   "outputs": [
    {
     "data": {
      "text/html": [
       "<div>\n",
       "<style scoped>\n",
       "    .dataframe tbody tr th:only-of-type {\n",
       "        vertical-align: middle;\n",
       "    }\n",
       "\n",
       "    .dataframe tbody tr th {\n",
       "        vertical-align: top;\n",
       "    }\n",
       "\n",
       "    .dataframe thead th {\n",
       "        text-align: right;\n",
       "    }\n",
       "</style>\n",
       "<table border=\"1\" class=\"dataframe\">\n",
       "  <thead>\n",
       "    <tr style=\"text-align: right;\">\n",
       "      <th></th>\n",
       "      <th>Kendall Rank Sum</th>\n",
       "    </tr>\n",
       "  </thead>\n",
       "  <tbody>\n",
       "    <tr>\n",
       "      <th>GOOG with ('AAL', 'AAPL', 'GOOGL', 'TSLA')</th>\n",
       "      <td>1.817211</td>\n",
       "    </tr>\n",
       "    <tr>\n",
       "      <th>GOOGL with ('AAL', 'AAPL', 'GOOG', 'TSLA')</th>\n",
       "      <td>1.813690</td>\n",
       "    </tr>\n",
       "  </tbody>\n",
       "</table>\n",
       "</div>"
      ],
      "text/plain": [
       "                                            Kendall Rank Sum\n",
       "GOOG with ('AAL', 'AAPL', 'GOOGL', 'TSLA')          1.817211\n",
       "GOOGL with ('AAL', 'AAPL', 'GOOG', 'TSLA')          1.813690"
      ]
     },
     "execution_count": 7,
     "metadata": {},
     "output_type": "execute_result"
    }
   ],
   "source": [
    "tps.kendall_rank_correlation(returns_data, n=2)"
   ]
  },
  {
   "cell_type": "markdown",
   "id": "d2bc5d87-5562-41ba-a5b0-193d1b909532",
   "metadata": {},
   "source": [
    "### Engle Granger Causality Test"
   ]
  },
  {
   "cell_type": "markdown",
   "id": "12ee336c-ad58-4d16-80b2-72fc2437ebce",
   "metadata": {},
   "source": [
    "#### Using OLS"
   ]
  },
  {
   "cell_type": "code",
   "execution_count": 8,
   "id": "955d4c52-8d42-4ccf-a324-6898e07606fd",
   "metadata": {},
   "outputs": [
    {
     "data": {
      "text/plain": [
       "{0.11743714702832997: {'AAPL Weight': -1.5529671083147845, 'GOOG Weight': 1}}"
      ]
     },
     "execution_count": 8,
     "metadata": {},
     "output_type": "execute_result"
    }
   ],
   "source": [
    "cct.ols_regress_coeff(data[[\"AAPL\", \"GOOG\"]])"
   ]
  },
  {
   "cell_type": "markdown",
   "id": "5b0df638-a778-450f-abac-c207851fbfef",
   "metadata": {},
   "source": [
    "#### Using VAR"
   ]
  },
  {
   "cell_type": "code",
   "execution_count": 9,
   "id": "2981e5e7-6db7-44a2-a855-5f07119cb017",
   "metadata": {},
   "outputs": [
    {
     "data": {
      "text/plain": [
       "'Insignificant Causation'"
      ]
     },
     "execution_count": 9,
     "metadata": {},
     "output_type": "execute_result"
    }
   ],
   "source": [
    "cct.granger_causation_matrix(data[[\"AAPL\", \"GOOG\"]])"
   ]
  },
  {
   "cell_type": "markdown",
   "id": "f444bb73-2a2d-4de1-9a83-d191850495b3",
   "metadata": {},
   "source": [
    "### Johanssen Test"
   ]
  },
  {
   "cell_type": "markdown",
   "id": "6f4025ae-cc5c-4b04-8c95-74a429ac1e41",
   "metadata": {},
   "source": [
    "#### Using Built In Function"
   ]
  },
  {
   "cell_type": "code",
   "execution_count": 10,
   "id": "f05585ce-4176-4639-8607-1b4b68fba324",
   "metadata": {},
   "outputs": [
    {
     "data": {
      "text/plain": [
       "'Insignificant: Cannot Reject null hypothesis'"
      ]
     },
     "execution_count": 10,
     "metadata": {},
     "output_type": "execute_result"
    }
   ],
   "source": [
    "cct.johansen_test(data[[\"AAPL\", \"GOOG\",\"TSLA\"]], alpha=0.01)"
   ]
  },
  {
   "cell_type": "markdown",
   "id": "386bbf7b-d5ef-42fd-98bd-d7631855f3ec",
   "metadata": {},
   "source": [
    "#### Written Function"
   ]
  },
  {
   "cell_type": "code",
   "execution_count": 11,
   "id": "0713ada5-507d-4845-9a48-f8f89ac5bee1",
   "metadata": {},
   "outputs": [
    {
     "name": "stdout",
     "output_type": "stream",
     "text": [
      "--------------------------------------------------\n",
      "--> Trace Statistics\n",
      "variable statistic Crit-90% Crit-95%  Crit-99%\n",
      "r = 0 \t 15.8839 27.0669 29.7961 35.4628\n",
      "r = 1 \t 5.2165 13.4294 15.4943 19.9349\n",
      "r = 2 \t 0.4927 2.7055 3.8415 6.6349\n",
      "--------------------------------------------------\n",
      "--> Eigen Statistics\n",
      "variable statistic Crit-90% Crit-95%  Crit-99%\n",
      "r = 0 \t 10.6674 18.8928 21.1314 25.865\n",
      "r = 1 \t 4.7238 12.2971 14.2639 18.52\n",
      "r = 2 \t 0.4927 2.7055 3.8415 6.6349\n",
      "--------------------------------------------------\n",
      "eigenvectors:\n",
      " [[ 5.94362255  1.00484655 -2.42884675]\n",
      " [-4.99652943 -5.21806426  1.26658095]\n",
      " [-1.84001368  1.68113165  0.19796783]]\n",
      "--------------------------------------------------\n",
      "eigenvalues:\n",
      " [0.00423255 0.0018765  0.00019587]\n",
      "--------------------------------------------------\n"
     ]
    },
    {
     "data": {
      "text/plain": [
       "<jtest.Holder at 0x13a88ba1a60>"
      ]
     },
     "execution_count": 11,
     "metadata": {},
     "output_type": "execute_result"
    }
   ],
   "source": [
    "jt.coint_johansen(data[[\"AAPL\", \"GOOG\",\"TSLA\"]], 0, 1)"
   ]
  },
  {
   "cell_type": "code",
   "execution_count": null,
   "id": "ad22d4b6-101e-4b39-aeae-ea6776742beb",
   "metadata": {},
   "outputs": [],
   "source": []
  }
 ],
 "metadata": {
  "kernelspec": {
   "display_name": "Python 3 (ipykernel)",
   "language": "python",
   "name": "python3"
  },
  "language_info": {
   "codemirror_mode": {
    "name": "ipython",
    "version": 3
   },
   "file_extension": ".py",
   "mimetype": "text/x-python",
   "name": "python",
   "nbconvert_exporter": "python",
   "pygments_lexer": "ipython3",
   "version": "3.9.13"
  }
 },
 "nbformat": 4,
 "nbformat_minor": 5
}
